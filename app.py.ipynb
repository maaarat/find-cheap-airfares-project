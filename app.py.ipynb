{
 "cells": [
  {
   "cell_type": "code",
   "execution_count": null,
   "metadata": {},
   "outputs": [],
   "source": [
    "# This is the application. You can run it."
   ]
  },
  {
   "cell_type": "code",
   "execution_count": 16,
   "metadata": {},
   "outputs": [],
   "source": [
    "import numpy as np\n",
    "import pandas as pd\n",
    "import matplotlib.pyplot as plt\n",
    "%matplotlib inline\n",
    "from bs4 import BeautifulSoup\n",
    "from selenium import webdriver\n",
    "from IPython.core.display import HTML\n",
    "from selenium import webdriver\n",
    "import datetime\n",
    "from datetime import date, timedelta\n",
    "from time import sleep\n",
    "from collections import defaultdict\n",
    "import re\n",
    "from sklearn.cluster import DBSCAN\n",
    "from sklearn.preprocessing import StandardScaler\n",
    "import requests\n"
   ]
  },
  {
   "cell_type": "code",
   "execution_count": 14,
   "metadata": {},
   "outputs": [],
   "source": [
    "#The thing that is really missing is to set the url as a parameter.\n",
    "#If you want to run the app, do not forget to have selenium installed and to change the  post message parameters for your ifftt account\n",
    "\n",
    "def check_flights(start_day, nbr_of_ranges, day_delta, eps_val, min_diff_price):\n",
    "    #start_day is the day when this algorithm should start searching for price, it must be entered as follow : \"YYYY-MM-DD\"\n",
    "    #nbr_of_ranges is the number of pages you want the algo to scrap\n",
    "    #day_delta is the interval of days between between two pages. For example, if start_day is monday 2020-01-01 and day_delta is 7, then the algo with scrap every monday until it reaches the number of range (nbr_of_ranges)\n",
    "    #min_diff_price : this is a parameter to avoid fare mistakes. It is the minium difference of price between the fare and the closest price. For short-distance trip, I think 30€ is ok. For long and expensive, you can go until 100€. Up to you of course.\n",
    "    #eps_val : this is linked to the clustering algo. if you do not know it, put 1.05, it will work most of the times\n",
    "    \n",
    "    #start_day = '2020-01-20' #this should be a parameter\n",
    "    start_day_date = datetime.datetime.strptime(start_day, '%Y-%m-%d')\n",
    "    fare_dict = dict()\n",
    "\n",
    "    for i in range(nbr_of_ranges):  #this should be a parameter  \n",
    "        day_start = str(start_day_date).split()[0]\n",
    "        fare_dict.update({day_start: {}})\n",
    "        sats = \"https://www.google.com/flights?hl=en#flt=/m/06gmr./m/01ly5m.\" + \\\n",
    "        day_start + \";c:EUR;e:1;sd:1;t:f;tt:o\"\n",
    "        sleep(np.random.randint(2,5))\n",
    "        driver = webdriver.Chrome()\n",
    "        driver.get(sats)\n",
    "        try:\n",
    "            price = driver.find_element_by_css_selector('.gws-flights-results__cheapest-price').text\n",
    "            duration = driver.find_element_by_css_selector('.gws-flights-results__duration').text\n",
    "            stops = driver.find_element_by_css_selector('.gws-flights-results__itinerary-stops').text\n",
    "            flight_compagny = driver.find_element_by_css_selector('.gws-flights-results__carriers').text\n",
    "        except:\n",
    "            None\n",
    "        fare_dict[day_start] = price, duration, stops, flight_compagny\n",
    "        df1 = pd.DataFrame.from_dict(fare_dict, orient='index', columns=['price', 'duration', 'stops', 'flight_compagny'])\n",
    "        start_day_date = start_day_date + timedelta(days=day_delta) #this should be a parameter\n",
    "        driver.close()\n",
    "        \n",
    "    df1['price']= df1['price'].str.extract('(\\d+)', expand=False)\n",
    "    df1['price'] = df1['price'].astype(float)\n",
    "    \n",
    "    px = [x for x in df1['price']]\n",
    "    ff = pd.DataFrame(px, columns=['fare']).reset_index()\n",
    "    X = StandardScaler().fit_transform(ff)\n",
    "    db = DBSCAN(eps=eps_val, min_samples=1).fit(X)\n",
    "\n",
    "    labels = db.labels_\n",
    "    clusters = len(set(labels))\n",
    "    unique_labels = set(labels)\n",
    "    colors = plt.cm.Spectral(np.linspace(0,\n",
    "                            1, len(unique_labels)))\n",
    "\n",
    "    plt.subplots(figsize=(12,8))\n",
    "\n",
    "    for k, c in zip(unique_labels, colors):\n",
    "        class_member_mask = (labels == k)\n",
    "        xy = X[class_member_mask]\n",
    "        plt.plot(xy[:, 0], xy[:, 1], 'o',\n",
    "                 markerfacecolor=c,\n",
    "                 markeredgecolor='k',\n",
    "                 markersize=14)\n",
    "\n",
    "    plt.title(\"Total Clusters: {}\".format(clusters),\n",
    "              fontsize=14, y=1.01)\n",
    "    pf = pd.concat([ff,pd.DataFrame(db.labels_,\n",
    "                                columns=['cluster'])], axis=1)\n",
    "    rf = pf.groupby('cluster')['fare'].agg(['min','count']).sort_values('min', ascending=True)\n",
    "    print(rf)\n",
    "    if clusters > 1\\\n",
    "    and ff['fare'].min() == rf.iloc[0]['min']\\\n",
    "    and rf.iloc[0]['count'] <= rf['count'].quantile(.10)\\\n",
    "    and rf.iloc[0]['min'] + min_diff_price < rf.iloc[1]['min']: #this should be a parameter\n",
    "        \n",
    "        city = \"Paris-Rio\"\n",
    "        fare = ff['fare'].min()\n",
    "        requests.post('https://maker.ifttt.com/trigger/fare_alert/with/key/gS5SGXZ_JKP9IS4nNJ0K3T5bh5Zgt0zhzqjCyTaV5Ta', data={\"value1\": city, \"value2\": fare})\n",
    "    else:\n",
    "        print(rf.iloc[0]['count'])\n",
    "        print(rf['count'].quantile(.10))\n",
    "        print('no alert triggered')       "
   ]
  },
  {
   "cell_type": "code",
   "execution_count": null,
   "metadata": {},
   "outputs": [],
   "source": [
    "check_flights('2020-05-09', 10, 1, 1.05, 30)"
   ]
  },
  {
   "cell_type": "code",
   "execution_count": 13,
   "metadata": {},
   "outputs": [
    {
     "ename": "NameError",
     "evalue": "name 'px' is not defined",
     "output_type": "error",
     "traceback": [
      "\u001b[1;31m---------------------------------------------------------------------------\u001b[0m",
      "\u001b[1;31mNameError\u001b[0m                                 Traceback (most recent call last)",
      "\u001b[1;32m<ipython-input-13-adea48b0e4da>\u001b[0m in \u001b[0;36m<module>\u001b[1;34m\u001b[0m\n\u001b[1;32m----> 1\u001b[1;33m \u001b[0mpx\u001b[0m\u001b[1;33m[\u001b[0m\u001b[1;36m3\u001b[0m\u001b[1;33m]\u001b[0m\u001b[1;33m\u001b[0m\u001b[1;33m\u001b[0m\u001b[0m\n\u001b[0m",
      "\u001b[1;31mNameError\u001b[0m: name 'px' is not defined"
     ]
    }
   ],
   "source": []
  },
  {
   "cell_type": "code",
   "execution_count": 6,
   "metadata": {},
   "outputs": [
    {
     "ename": "NameError",
     "evalue": "name 'df1' is not defined",
     "output_type": "error",
     "traceback": [
      "\u001b[1;31m---------------------------------------------------------------------------\u001b[0m",
      "\u001b[1;31mNameError\u001b[0m                                 Traceback (most recent call last)",
      "\u001b[1;32m<ipython-input-6-6a861a8b3f1a>\u001b[0m in \u001b[0;36m<module>\u001b[1;34m\u001b[0m\n\u001b[1;32m----> 1\u001b[1;33m \u001b[0mdf1\u001b[0m\u001b[1;33m\u001b[0m\u001b[1;33m\u001b[0m\u001b[0m\n\u001b[0m",
      "\u001b[1;31mNameError\u001b[0m: name 'df1' is not defined"
     ]
    }
   ],
   "source": [
    "#If you want it to run every hour dot that : \n",
    "schedule.every(60).minutes.do(check_flights('2020-01-30', 2, 1, 1.05, 30))"
   ]
  },
  {
   "cell_type": "code",
   "execution_count": null,
   "metadata": {},
   "outputs": [],
   "source": []
  }
 ],
 "metadata": {
  "kernelspec": {
   "display_name": "Python 3",
   "language": "python",
   "name": "python3"
  },
  "language_info": {
   "codemirror_mode": {
    "name": "ipython",
    "version": 3
   },
   "file_extension": ".py",
   "mimetype": "text/x-python",
   "name": "python",
   "nbconvert_exporter": "python",
   "pygments_lexer": "ipython3",
   "version": "3.7.4"
  }
 },
 "nbformat": 4,
 "nbformat_minor": 2
}
